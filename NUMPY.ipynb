{
  "nbformat": 4,
  "nbformat_minor": 0,
  "metadata": {
    "colab": {
      "provenance": [],
      "authorship_tag": "ABX9TyPOztYrdrAErUH5y6fLCZ9P",
      "include_colab_link": true
    },
    "kernelspec": {
      "name": "python3",
      "display_name": "Python 3"
    },
    "language_info": {
      "name": "python"
    }
  },
  "cells": [
    {
      "cell_type": "markdown",
      "metadata": {
        "id": "view-in-github",
        "colab_type": "text"
      },
      "source": [
        "<a href=\"https://colab.research.google.com/github/PotlachervuSrilatha/Numpy/blob/main/NUMPY.ipynb\" target=\"_parent\"><img src=\"https://colab.research.google.com/assets/colab-badge.svg\" alt=\"Open In Colab\"/></a>"
      ]
    },
    {
      "cell_type": "code",
      "execution_count": 2,
      "metadata": {
        "id": "jsBZL49k4JCT"
      },
      "outputs": [],
      "source": [
        "# NumPy (also called Numerical Python) is a highly flexible, optimized, open-source package meant for array processing.\n",
        "# It provides tools for delivering high-end performance while dealing with N-dimensional powerful array objects.\n",
        "# It is also beneficial for performing scientific computations, mathematical, and logical operations,\n",
        "# sorting operations, I/O functions, basic statistical and linear algebra-based operations along with random simulation and broadcasting functionalities.\n",
        "#  Due to the vast range of capabilities, NumPy has become very popular and is the most preferred package.\n"
      ]
    },
    {
      "cell_type": "code",
      "source": [
        "# # Creating Numpy Array\n",
        "# Numpy stands for Numerical python and is the core library for numeric and scientific computing\n",
        "# it consists of multi-dimensional array objects and a collection of routiness for processing those arrays"
      ],
      "metadata": {
        "id": "DCwnwpasNZpk"
      },
      "execution_count": 3,
      "outputs": []
    },
    {
      "cell_type": "code",
      "source": [
        "# SINGLE -DIMENSIONAL ARRAY"
      ],
      "metadata": {
        "id": "QK_AzV8xKX57"
      },
      "execution_count": 4,
      "outputs": []
    },
    {
      "cell_type": "code",
      "source": [
        "import numpy as np"
      ],
      "metadata": {
        "id": "6FcySMilKhNS"
      },
      "execution_count": 5,
      "outputs": []
    },
    {
      "cell_type": "code",
      "source": [
        "n1=np.array([1,2,3,4,5])\n",
        "print(n1)"
      ],
      "metadata": {
        "colab": {
          "base_uri": "https://localhost:8080/"
        },
        "id": "TRiXKaMbKk7x",
        "outputId": "50838688-54e3-457d-967a-9a7a600c34fb"
      },
      "execution_count": 6,
      "outputs": [
        {
          "output_type": "stream",
          "name": "stdout",
          "text": [
            "[1 2 3 4 5]\n"
          ]
        }
      ]
    },
    {
      "cell_type": "code",
      "source": [
        "type(n1)"
      ],
      "metadata": {
        "colab": {
          "base_uri": "https://localhost:8080/"
        },
        "id": "cNhPzcV0Krsk",
        "outputId": "3a1b1796-1cd0-4e23-8f4b-538928c97515"
      },
      "execution_count": 7,
      "outputs": [
        {
          "output_type": "execute_result",
          "data": {
            "text/plain": [
              "numpy.ndarray"
            ]
          },
          "metadata": {},
          "execution_count": 7
        }
      ]
    },
    {
      "cell_type": "code",
      "source": [
        "# Multi-Dimensional Array"
      ],
      "metadata": {
        "id": "KubZK37wOIEg"
      },
      "execution_count": 8,
      "outputs": []
    },
    {
      "cell_type": "code",
      "source": [
        "n2=np.array([[1,2,3,4,5],\n",
        "         [4,5,6,7,8]])"
      ],
      "metadata": {
        "id": "8gMTfDCcKtA0"
      },
      "execution_count": 9,
      "outputs": []
    },
    {
      "cell_type": "code",
      "source": [
        "n2"
      ],
      "metadata": {
        "colab": {
          "base_uri": "https://localhost:8080/"
        },
        "id": "RVm-1AFdNRL5",
        "outputId": "a1d0ae7b-0270-4c83-f886-dea651467fb4"
      },
      "execution_count": 10,
      "outputs": [
        {
          "output_type": "execute_result",
          "data": {
            "text/plain": [
              "array([[1, 2, 3, 4, 5],\n",
              "       [4, 5, 6, 7, 8]])"
            ]
          },
          "metadata": {},
          "execution_count": 10
        }
      ]
    },
    {
      "cell_type": "code",
      "source": [
        "type(n2)"
      ],
      "metadata": {
        "colab": {
          "base_uri": "https://localhost:8080/"
        },
        "id": "qZPl_XDQPHlU",
        "outputId": "1730a49d-4b09-45e8-e7ca-804471a08f73"
      },
      "execution_count": 11,
      "outputs": [
        {
          "output_type": "execute_result",
          "data": {
            "text/plain": [
              "numpy.ndarray"
            ]
          },
          "metadata": {},
          "execution_count": 11
        }
      ]
    },
    {
      "cell_type": "code",
      "source": [
        "# INITIALIZING NUMPY ARRAY"
      ],
      "metadata": {
        "id": "w2EZ97gBPI1K"
      },
      "execution_count": 12,
      "outputs": []
    },
    {
      "cell_type": "code",
      "source": [
        "# initializing numpy array with zeros"
      ],
      "metadata": {
        "id": "OILxeq8uPPvB"
      },
      "execution_count": 13,
      "outputs": []
    },
    {
      "cell_type": "code",
      "source": [
        "import numpy as np"
      ],
      "metadata": {
        "id": "1cW3oHfxPbsu"
      },
      "execution_count": 14,
      "outputs": []
    },
    {
      "cell_type": "code",
      "source": [
        "n1=np.zeros((1,2))\n",
        "n1"
      ],
      "metadata": {
        "colab": {
          "base_uri": "https://localhost:8080/"
        },
        "id": "e2zEOjtlP88x",
        "outputId": "a1498908-f110-4647-ffd5-ec9af967ac4c"
      },
      "execution_count": 15,
      "outputs": [
        {
          "output_type": "execute_result",
          "data": {
            "text/plain": [
              "array([[0., 0.]])"
            ]
          },
          "metadata": {},
          "execution_count": 15
        }
      ]
    },
    {
      "cell_type": "code",
      "source": [
        "n1=np.zeros((5,5))"
      ],
      "metadata": {
        "id": "ezkMkDfNQE_J"
      },
      "execution_count": 16,
      "outputs": []
    },
    {
      "cell_type": "code",
      "source": [
        "n1"
      ],
      "metadata": {
        "colab": {
          "base_uri": "https://localhost:8080/"
        },
        "id": "rCMTdK_NQNdm",
        "outputId": "5121155a-5868-4189-b8d9-26e0a7000293"
      },
      "execution_count": 17,
      "outputs": [
        {
          "output_type": "execute_result",
          "data": {
            "text/plain": [
              "array([[0., 0., 0., 0., 0.],\n",
              "       [0., 0., 0., 0., 0.],\n",
              "       [0., 0., 0., 0., 0.],\n",
              "       [0., 0., 0., 0., 0.],\n",
              "       [0., 0., 0., 0., 0.]])"
            ]
          },
          "metadata": {},
          "execution_count": 17
        }
      ]
    },
    {
      "cell_type": "code",
      "source": [
        "# initializing numpy array with same number\n",
        "#np.full"
      ],
      "metadata": {
        "id": "z2aaPnfTQOAe"
      },
      "execution_count": 18,
      "outputs": []
    },
    {
      "cell_type": "code",
      "source": [
        "import numpy as np\n",
        "n1= np.full((5,5),10)\n",
        "n1"
      ],
      "metadata": {
        "colab": {
          "base_uri": "https://localhost:8080/"
        },
        "id": "lPn9tcg2Qmuq",
        "outputId": "6bcdb3eb-958d-4414-dc74-dcebab0090ab"
      },
      "execution_count": 19,
      "outputs": [
        {
          "output_type": "execute_result",
          "data": {
            "text/plain": [
              "array([[10, 10, 10, 10, 10],\n",
              "       [10, 10, 10, 10, 10],\n",
              "       [10, 10, 10, 10, 10],\n",
              "       [10, 10, 10, 10, 10],\n",
              "       [10, 10, 10, 10, 10]])"
            ]
          },
          "metadata": {},
          "execution_count": 19
        }
      ]
    },
    {
      "cell_type": "code",
      "source": [
        "# initializing numpy array within a range\n",
        "#np.arange"
      ],
      "metadata": {
        "id": "OKp4Kyt-RBQj"
      },
      "execution_count": 20,
      "outputs": []
    },
    {
      "cell_type": "code",
      "source": [
        "import numpy as np\n",
        "n1=np.arange(10,20)\n",
        "n1"
      ],
      "metadata": {
        "colab": {
          "base_uri": "https://localhost:8080/"
        },
        "id": "IRaf1-aVRLNh",
        "outputId": "4f2973ab-85f9-4bc8-f4e4-3555ab30c09d"
      },
      "execution_count": 21,
      "outputs": [
        {
          "output_type": "execute_result",
          "data": {
            "text/plain": [
              "array([10, 11, 12, 13, 14, 15, 16, 17, 18, 19])"
            ]
          },
          "metadata": {},
          "execution_count": 21
        }
      ]
    },
    {
      "cell_type": "code",
      "source": [
        "n1=np.arange(10,50,7)"
      ],
      "metadata": {
        "id": "wE4oonkvRS35"
      },
      "execution_count": 22,
      "outputs": []
    },
    {
      "cell_type": "code",
      "source": [
        "n1"
      ],
      "metadata": {
        "colab": {
          "base_uri": "https://localhost:8080/"
        },
        "id": "srB7F7cXRYF5",
        "outputId": "465ed79a-70cb-43f1-ac07-113c587b2adf"
      },
      "execution_count": 23,
      "outputs": [
        {
          "output_type": "execute_result",
          "data": {
            "text/plain": [
              "array([10, 17, 24, 31, 38, 45])"
            ]
          },
          "metadata": {},
          "execution_count": 23
        }
      ]
    },
    {
      "cell_type": "code",
      "source": [
        "n1=np.arange(100,200,10)\n",
        "n1"
      ],
      "metadata": {
        "colab": {
          "base_uri": "https://localhost:8080/"
        },
        "id": "o6Kg3hyIRZj5",
        "outputId": "dc677c20-673d-4b7b-8619-f8e3799fc436"
      },
      "execution_count": 24,
      "outputs": [
        {
          "output_type": "execute_result",
          "data": {
            "text/plain": [
              "array([100, 110, 120, 130, 140, 150, 160, 170, 180, 190])"
            ]
          },
          "metadata": {},
          "execution_count": 24
        }
      ]
    },
    {
      "cell_type": "code",
      "source": [
        "n1=np.arange(100,201,50)\n",
        "n1"
      ],
      "metadata": {
        "colab": {
          "base_uri": "https://localhost:8080/"
        },
        "id": "c0jq9ZCjRgXx",
        "outputId": "aa52fc0f-a791-4dc2-b5a3-a9ccb7688c40"
      },
      "execution_count": 25,
      "outputs": [
        {
          "output_type": "execute_result",
          "data": {
            "text/plain": [
              "array([100, 150, 200])"
            ]
          },
          "metadata": {},
          "execution_count": 25
        }
      ]
    },
    {
      "cell_type": "code",
      "source": [
        "# initializing numpy array with random numbers\n",
        "# np.random.randomint"
      ],
      "metadata": {
        "id": "-K1owMobRx0H"
      },
      "execution_count": 26,
      "outputs": []
    },
    {
      "cell_type": "code",
      "source": [
        "n1=np.random.randint(1,100,35)\n",
        "n1"
      ],
      "metadata": {
        "colab": {
          "base_uri": "https://localhost:8080/"
        },
        "id": "zxWCambgTiGR",
        "outputId": "45a74b21-1025-4b51-aff0-525293a9a345"
      },
      "execution_count": 27,
      "outputs": [
        {
          "output_type": "execute_result",
          "data": {
            "text/plain": [
              "array([13, 17, 99, 55, 38, 43, 59, 21, 38, 98, 19, 11, 99, 19, 65, 62, 19,\n",
              "       73, 49, 74, 62, 30, 25,  7, 32, 95, 24, 70, 84, 59, 93, 16, 71, 61,\n",
              "       26])"
            ]
          },
          "metadata": {},
          "execution_count": 27
        }
      ]
    },
    {
      "cell_type": "code",
      "source": [
        "n1=np.random.randint(50,100,10)\n",
        "n1"
      ],
      "metadata": {
        "colab": {
          "base_uri": "https://localhost:8080/"
        },
        "id": "TTD6XO9kTooP",
        "outputId": "2e9921fc-cbdc-4583-e4de-1353732cceb8"
      },
      "execution_count": 28,
      "outputs": [
        {
          "output_type": "execute_result",
          "data": {
            "text/plain": [
              "array([97, 71, 83, 88, 74, 98, 79, 53, 83, 78])"
            ]
          },
          "metadata": {},
          "execution_count": 28
        }
      ]
    },
    {
      "cell_type": "code",
      "source": [
        "# NUMPY SHAPE\n",
        "#CHECKING THE SHAPE OF NUMPY ARRAYS"
      ],
      "metadata": {
        "id": "O5U_fBD3UEK5"
      },
      "execution_count": 29,
      "outputs": []
    },
    {
      "cell_type": "code",
      "source": [
        "import numpy as np\n",
        "n1=np.array([[1,2,3,4,5],[4,5,6,7,8,]])\n",
        "n1"
      ],
      "metadata": {
        "colab": {
          "base_uri": "https://localhost:8080/"
        },
        "id": "gm_FV6ePUNcJ",
        "outputId": "9b1e2793-1c65-413d-e9e8-1c73696b2248"
      },
      "execution_count": 30,
      "outputs": [
        {
          "output_type": "execute_result",
          "data": {
            "text/plain": [
              "array([[1, 2, 3, 4, 5],\n",
              "       [4, 5, 6, 7, 8]])"
            ]
          },
          "metadata": {},
          "execution_count": 30
        }
      ]
    },
    {
      "cell_type": "code",
      "source": [
        "n1.shape"
      ],
      "metadata": {
        "colab": {
          "base_uri": "https://localhost:8080/"
        },
        "id": "Zz2SmPeRUfPJ",
        "outputId": "87ce0ce9-e259-492e-e3de-91cd0fa21708"
      },
      "execution_count": 31,
      "outputs": [
        {
          "output_type": "execute_result",
          "data": {
            "text/plain": [
              "(2, 5)"
            ]
          },
          "metadata": {},
          "execution_count": 31
        }
      ]
    },
    {
      "cell_type": "code",
      "source": [
        "n1.shape=(5,2)\n",
        "n1.shape\n",
        "n1"
      ],
      "metadata": {
        "colab": {
          "base_uri": "https://localhost:8080/"
        },
        "id": "WaM4B_sSUgXJ",
        "outputId": "3b142270-8350-4f79-fa36-e2e0d74c0696"
      },
      "execution_count": 32,
      "outputs": [
        {
          "output_type": "execute_result",
          "data": {
            "text/plain": [
              "array([[1, 2],\n",
              "       [3, 4],\n",
              "       [5, 4],\n",
              "       [5, 6],\n",
              "       [7, 8]])"
            ]
          },
          "metadata": {},
          "execution_count": 32
        }
      ]
    },
    {
      "cell_type": "code",
      "source": [
        "# JOINING NUMPY ARRAYS\n",
        "# np.vstack()\n",
        "# np.hstack()\n",
        "# np.column_stack()"
      ],
      "metadata": {
        "id": "_karakD1U-CT"
      },
      "execution_count": 33,
      "outputs": []
    },
    {
      "cell_type": "code",
      "source": [
        "import numpy as np\n",
        "n1=np.array([10,20,30,40,50])\n",
        "n2=np.array([60,70,80,90,100])"
      ],
      "metadata": {
        "id": "OmxSxGJkVb1I"
      },
      "execution_count": 34,
      "outputs": []
    },
    {
      "cell_type": "code",
      "source": [
        "np.vstack((n1,n2))"
      ],
      "metadata": {
        "colab": {
          "base_uri": "https://localhost:8080/"
        },
        "id": "6HVfc-T6VupB",
        "outputId": "0c67a644-9973-4e0b-9949-e7cab7b4cbc1"
      },
      "execution_count": 35,
      "outputs": [
        {
          "output_type": "execute_result",
          "data": {
            "text/plain": [
              "array([[ 10,  20,  30,  40,  50],\n",
              "       [ 60,  70,  80,  90, 100]])"
            ]
          },
          "metadata": {},
          "execution_count": 35
        }
      ]
    },
    {
      "cell_type": "code",
      "source": [
        "np.vstack((n2,n1))"
      ],
      "metadata": {
        "colab": {
          "base_uri": "https://localhost:8080/"
        },
        "id": "ELtVZ9D_V0Do",
        "outputId": "533db220-63fd-4984-fa47-62062ecca4f5"
      },
      "execution_count": 36,
      "outputs": [
        {
          "output_type": "execute_result",
          "data": {
            "text/plain": [
              "array([[ 60,  70,  80,  90, 100],\n",
              "       [ 10,  20,  30,  40,  50]])"
            ]
          },
          "metadata": {},
          "execution_count": 36
        }
      ]
    },
    {
      "cell_type": "code",
      "source": [
        "np.hstack((n1,n2))"
      ],
      "metadata": {
        "colab": {
          "base_uri": "https://localhost:8080/"
        },
        "id": "RqCPjkBDV8as",
        "outputId": "9a2fc4d7-3fcc-48cb-ec1b-aafe3ca66f35"
      },
      "execution_count": 37,
      "outputs": [
        {
          "output_type": "execute_result",
          "data": {
            "text/plain": [
              "array([ 10,  20,  30,  40,  50,  60,  70,  80,  90, 100])"
            ]
          },
          "metadata": {},
          "execution_count": 37
        }
      ]
    },
    {
      "cell_type": "code",
      "source": [
        "np.hstack((n2,n1))"
      ],
      "metadata": {
        "colab": {
          "base_uri": "https://localhost:8080/"
        },
        "id": "aK85JmeBV-8q",
        "outputId": "2e5d3291-baad-458e-d069-11419eaf41ef"
      },
      "execution_count": 38,
      "outputs": [
        {
          "output_type": "execute_result",
          "data": {
            "text/plain": [
              "array([ 60,  70,  80,  90, 100,  10,  20,  30,  40,  50])"
            ]
          },
          "metadata": {},
          "execution_count": 38
        }
      ]
    },
    {
      "cell_type": "code",
      "source": [
        "np.column_stack((n1,n2))"
      ],
      "metadata": {
        "colab": {
          "base_uri": "https://localhost:8080/"
        },
        "id": "TdrkpG56V-yE",
        "outputId": "903eb4dc-f7d6-4b99-d14c-e30002beea65"
      },
      "execution_count": 39,
      "outputs": [
        {
          "output_type": "execute_result",
          "data": {
            "text/plain": [
              "array([[ 10,  60],\n",
              "       [ 20,  70],\n",
              "       [ 30,  80],\n",
              "       [ 40,  90],\n",
              "       [ 50, 100]])"
            ]
          },
          "metadata": {},
          "execution_count": 39
        }
      ]
    },
    {
      "cell_type": "code",
      "source": [
        "np.column_stack((n2,n2))"
      ],
      "metadata": {
        "colab": {
          "base_uri": "https://localhost:8080/"
        },
        "id": "2BkEuigUV-p0",
        "outputId": "cdf5585d-c824-4c2c-f6e2-aed02020faf1"
      },
      "execution_count": 40,
      "outputs": [
        {
          "output_type": "execute_result",
          "data": {
            "text/plain": [
              "array([[ 60,  60],\n",
              "       [ 70,  70],\n",
              "       [ 80,  80],\n",
              "       [ 90,  90],\n",
              "       [100, 100]])"
            ]
          },
          "metadata": {},
          "execution_count": 40
        }
      ]
    },
    {
      "cell_type": "code",
      "source": [
        "# NUMPY INTERSECTION & dIFFERENCE"
      ],
      "metadata": {
        "id": "3lJchH03WPrv"
      },
      "execution_count": 41,
      "outputs": []
    },
    {
      "cell_type": "code",
      "source": [
        "import numpy as np\n",
        "n1=np.array([10,20,30,40,50,60])\n",
        "n2=np.array([50,60,70,80,90])"
      ],
      "metadata": {
        "id": "KsfTgjyCXJ3Z"
      },
      "execution_count": 42,
      "outputs": []
    },
    {
      "cell_type": "code",
      "source": [
        "np.intersect1d(n1,n2)\n"
      ],
      "metadata": {
        "colab": {
          "base_uri": "https://localhost:8080/"
        },
        "id": "pETYa1b4XQ-w",
        "outputId": "c1b7b7f6-7c8d-4aa3-a562-d5ee7d8ab436"
      },
      "execution_count": 43,
      "outputs": [
        {
          "output_type": "execute_result",
          "data": {
            "text/plain": [
              "array([50, 60])"
            ]
          },
          "metadata": {},
          "execution_count": 43
        }
      ]
    },
    {
      "cell_type": "code",
      "source": [
        "np.setdiff1d(n1,n2)\n"
      ],
      "metadata": {
        "colab": {
          "base_uri": "https://localhost:8080/"
        },
        "id": "VwKQOukbYCHN",
        "outputId": "71447350-c74d-4467-ecf1-144904ee696c"
      },
      "execution_count": 44,
      "outputs": [
        {
          "output_type": "execute_result",
          "data": {
            "text/plain": [
              "array([10, 20, 30, 40])"
            ]
          },
          "metadata": {},
          "execution_count": 44
        }
      ]
    },
    {
      "cell_type": "code",
      "source": [
        "np.intersect1d(n2,n1)\n"
      ],
      "metadata": {
        "colab": {
          "base_uri": "https://localhost:8080/"
        },
        "id": "-uXGL432YIMo",
        "outputId": "e42a486d-bac3-4e9d-d256-f385c60ba82c"
      },
      "execution_count": 45,
      "outputs": [
        {
          "output_type": "execute_result",
          "data": {
            "text/plain": [
              "array([50, 60])"
            ]
          },
          "metadata": {},
          "execution_count": 45
        }
      ]
    },
    {
      "cell_type": "code",
      "source": [
        "#ddition of numpy arrays"
      ],
      "metadata": {
        "id": "eslA1qkTYRfb"
      },
      "execution_count": 46,
      "outputs": []
    },
    {
      "cell_type": "code",
      "source": [
        "n1=np.array([10,20,30])\n",
        "n2=np.array([30,40,50])\n",
        "np.sum([n1,n2])"
      ],
      "metadata": {
        "colab": {
          "base_uri": "https://localhost:8080/"
        },
        "id": "P4-cGLTMYopv",
        "outputId": "c58f105b-1d28-4270-a45e-c22ba031ba37"
      },
      "execution_count": 47,
      "outputs": [
        {
          "output_type": "execute_result",
          "data": {
            "text/plain": [
              "180"
            ]
          },
          "metadata": {},
          "execution_count": 47
        }
      ]
    },
    {
      "cell_type": "code",
      "source": [
        "n1=([10,20,30])\n",
        "n2=([30,40,50])"
      ],
      "metadata": {
        "id": "ShqrtXv8YVbA"
      },
      "execution_count": 48,
      "outputs": []
    },
    {
      "cell_type": "code",
      "source": [
        "np.sum([n1,n2])"
      ],
      "metadata": {
        "colab": {
          "base_uri": "https://localhost:8080/"
        },
        "id": "LrbSdxoPYfmg",
        "outputId": "5d289a0f-4abf-4d7f-a26c-873dd34da4b2"
      },
      "execution_count": 49,
      "outputs": [
        {
          "output_type": "execute_result",
          "data": {
            "text/plain": [
              "180"
            ]
          },
          "metadata": {},
          "execution_count": 49
        }
      ]
    },
    {
      "cell_type": "code",
      "source": [
        "np.sum([n1,n2],axis=0)"
      ],
      "metadata": {
        "colab": {
          "base_uri": "https://localhost:8080/"
        },
        "id": "4OqoYKydYyHm",
        "outputId": "11bc8ef3-7733-4b30-8fcc-0cabe812a93b"
      },
      "execution_count": 50,
      "outputs": [
        {
          "output_type": "execute_result",
          "data": {
            "text/plain": [
              "array([40, 60, 80])"
            ]
          },
          "metadata": {},
          "execution_count": 50
        }
      ]
    },
    {
      "cell_type": "code",
      "source": [
        "np.sum([n1,n2],axis=1)"
      ],
      "metadata": {
        "colab": {
          "base_uri": "https://localhost:8080/"
        },
        "id": "C5qCpcOEY2iW",
        "outputId": "2b30fa70-3204-47a9-9a63-2df73be8a286"
      },
      "execution_count": 51,
      "outputs": [
        {
          "output_type": "execute_result",
          "data": {
            "text/plain": [
              "array([ 60, 120])"
            ]
          },
          "metadata": {},
          "execution_count": 51
        }
      ]
    },
    {
      "cell_type": "code",
      "source": [
        "#NUMPY ARRAY MATHEMATICS"
      ],
      "metadata": {
        "id": "OfAoM-9PZDAu"
      },
      "execution_count": 52,
      "outputs": []
    },
    {
      "cell_type": "code",
      "source": [
        "#BASIC ADDITION"
      ],
      "metadata": {
        "id": "6b2lLkQ-ZC9P"
      },
      "execution_count": 53,
      "outputs": []
    },
    {
      "cell_type": "code",
      "source": [
        "n1=np.array([10,20,30])\n",
        "n1=n1+1\n",
        "n1"
      ],
      "metadata": {
        "colab": {
          "base_uri": "https://localhost:8080/"
        },
        "id": "MGREQMB4ZC55",
        "outputId": "1eb01407-60a5-40c6-bcdb-63003113e488"
      },
      "execution_count": 54,
      "outputs": [
        {
          "output_type": "execute_result",
          "data": {
            "text/plain": [
              "array([11, 21, 31])"
            ]
          },
          "metadata": {},
          "execution_count": 54
        }
      ]
    },
    {
      "cell_type": "code",
      "source": [
        "#BASIC SUBTRACTION"
      ],
      "metadata": {
        "id": "sY4tNFXDZC2K"
      },
      "execution_count": 55,
      "outputs": []
    },
    {
      "cell_type": "code",
      "source": [
        "n1=np.array([10,20,30])\n",
        "n1=n1-1\n",
        "n1"
      ],
      "metadata": {
        "colab": {
          "base_uri": "https://localhost:8080/"
        },
        "id": "liFB24unZCzm",
        "outputId": "844a797f-a3ab-4cb8-f98c-dac704af6ed7"
      },
      "execution_count": 56,
      "outputs": [
        {
          "output_type": "execute_result",
          "data": {
            "text/plain": [
              "array([ 9, 19, 29])"
            ]
          },
          "metadata": {},
          "execution_count": 56
        }
      ]
    },
    {
      "cell_type": "code",
      "source": [
        "#BASIC MULTIPLICATION"
      ],
      "metadata": {
        "id": "CNW0M9IHZjGB"
      },
      "execution_count": 57,
      "outputs": []
    },
    {
      "cell_type": "code",
      "source": [
        "n1=np.array([10,20,30])\n",
        "n1=n1*2\n",
        "n1"
      ],
      "metadata": {
        "colab": {
          "base_uri": "https://localhost:8080/"
        },
        "id": "Ul7i_T4cZCwF",
        "outputId": "f41b7786-2c42-4a88-cc3b-7b17e5c7298b"
      },
      "execution_count": 58,
      "outputs": [
        {
          "output_type": "execute_result",
          "data": {
            "text/plain": [
              "array([20, 40, 60])"
            ]
          },
          "metadata": {},
          "execution_count": 58
        }
      ]
    },
    {
      "cell_type": "code",
      "source": [
        "#BASIC DIVISION"
      ],
      "metadata": {
        "id": "gQMb2hNbZj04"
      },
      "execution_count": 59,
      "outputs": []
    },
    {
      "cell_type": "code",
      "source": [
        "n1=np.array([10,20,30])\n",
        "n1=n1/2\n",
        "n1"
      ],
      "metadata": {
        "colab": {
          "base_uri": "https://localhost:8080/"
        },
        "id": "Os4NUp-pZCsu",
        "outputId": "d69b7c93-ffa2-458b-ad7b-b6e864e42c5b"
      },
      "execution_count": 60,
      "outputs": [
        {
          "output_type": "execute_result",
          "data": {
            "text/plain": [
              "array([ 5., 10., 15.])"
            ]
          },
          "metadata": {},
          "execution_count": 60
        }
      ]
    },
    {
      "cell_type": "code",
      "source": [
        "n1=np.array([10,20,30])\n",
        "np.mean(n1)\n"
      ],
      "metadata": {
        "colab": {
          "base_uri": "https://localhost:8080/"
        },
        "id": "RJlJvkWGZCqX",
        "outputId": "fedf29fc-4ce2-4eb0-d682-650cb1808843"
      },
      "execution_count": 61,
      "outputs": [
        {
          "output_type": "execute_result",
          "data": {
            "text/plain": [
              "20.0"
            ]
          },
          "metadata": {},
          "execution_count": 61
        }
      ]
    },
    {
      "cell_type": "code",
      "source": [
        "np.median(n1)"
      ],
      "metadata": {
        "colab": {
          "base_uri": "https://localhost:8080/"
        },
        "id": "OXt7oN-waBlw",
        "outputId": "1b1ece9d-fe49-4b56-d154-5850a45c048a"
      },
      "execution_count": 62,
      "outputs": [
        {
          "output_type": "execute_result",
          "data": {
            "text/plain": [
              "20.0"
            ]
          },
          "metadata": {},
          "execution_count": 62
        }
      ]
    },
    {
      "cell_type": "code",
      "source": [
        "np.std(n1)"
      ],
      "metadata": {
        "colab": {
          "base_uri": "https://localhost:8080/"
        },
        "id": "HRvm3IQraDu4",
        "outputId": "535d1183-5994-4780-e558-7779930a01c1"
      },
      "execution_count": 63,
      "outputs": [
        {
          "output_type": "execute_result",
          "data": {
            "text/plain": [
              "8.16496580927726"
            ]
          },
          "metadata": {},
          "execution_count": 63
        }
      ]
    },
    {
      "cell_type": "code",
      "source": [
        "np.median(n1)"
      ],
      "metadata": {
        "colab": {
          "base_uri": "https://localhost:8080/"
        },
        "id": "N8imbFdeaHKw",
        "outputId": "555c65dd-2632-40f8-8919-3b9af41d8b65"
      },
      "execution_count": 65,
      "outputs": [
        {
          "output_type": "execute_result",
          "data": {
            "text/plain": [
              "20.0"
            ]
          },
          "metadata": {},
          "execution_count": 65
        }
      ]
    },
    {
      "cell_type": "code",
      "source": [
        "from scipy.stats import mode\n",
        "mode(n1)"
      ],
      "metadata": {
        "colab": {
          "base_uri": "https://localhost:8080/"
        },
        "id": "A1_YRSPXdy3U",
        "outputId": "9cb4b3fd-9f09-4471-aff0-2882e34466c5"
      },
      "execution_count": 67,
      "outputs": [
        {
          "output_type": "execute_result",
          "data": {
            "text/plain": [
              "ModeResult(mode=10, count=1)"
            ]
          },
          "metadata": {},
          "execution_count": 67
        }
      ]
    }
  ]
}